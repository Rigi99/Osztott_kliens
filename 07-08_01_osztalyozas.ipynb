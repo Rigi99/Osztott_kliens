{
  "nbformat": 4,
  "nbformat_minor": 0,
  "metadata": {
    "colab": {
      "name": "Osztályozás.ipynb",
      "provenance": [],
      "collapsed_sections": []
    },
    "kernelspec": {
      "name": "python3",
      "display_name": "Python 3"
    },
    "language_info": {
      "name": "python"
    }
  },
  "cells": [
    {
      "cell_type": "markdown",
      "metadata": {
        "id": "OaFZI9gV2Fk8"
      },
      "source": [
        "# Osztályozás\n",
        "\n",
        "Mikor a prediktív modellezés célváltozója diszkrét, a feladatot [osztályozásnak](https://en.wikipedia.org/wiki/Statistical_classification) hívjuk. Annak az előrejelzése például, hogy egy banki ügyfél felveheti-e vagy sem a kért hitelt, egy osztályozási feladat mivel a célváltozó bináris értékű (pozitív elbírálás, elutasítás).\n",
        "\n",
        "## Példa\n",
        "\n",
        "Tekintsük azt a feladatot, amelyben virágok fajtáját ( nőszirom (Setosa), foltos nőszirom (Versicolor), vagy virginiai nőszirom (Virginica)) szeretnénk előrejelezni [tulajdonságaik alapján](https://en.wikipedia.org/wiki/Iris_flower_data_set) (virágszirom, csészelevél méretek).\n",
        "\n",
        "![](https://upload.wikimedia.org/wikipedia/commons/5/56/Iris_dataset_scatterplot.svg) \n",
        "\n",
        "Ábra 1. Az [Írisz adatállomány](https://archive.ics.uci.edu/ml/datasets/iris) 150 virágának ábrázolása a karakterisztikáik szerint.[Forrás](https://upload.wikimedia.org/wikipedia/commons/5/56/Iris_dataset_scatterplot.svg).\n",
        "\n",
        "### Osztályozás - scikit learn\n",
        "\n",
        "[Forrás 1](https://towardsdatascience.com/exploring-classifiers-with-python-scikit-learn-iris-dataset-2bcb490d2e1b), [forrás 2](https://github.com/girishp92/Classification-of-Iris-Data-using-Machine-learning-methods-in-Python)."
      ]
    },
    {
      "cell_type": "code",
      "metadata": {
        "id": "orTMXa4k2CJ6"
      },
      "source": [
        "import sys\n",
        "import scipy\n",
        "import numpy as np\n",
        "import matplotlib\n",
        "import pandas\n",
        "import sklearn\n",
        "\n",
        "import seaborn as sns\n",
        "import pandas as pd\n",
        "import matplotlib.pyplot as plt\n",
        "from sklearn import model_selection\n",
        "from sklearn.metrics import classification_report\n",
        "from sklearn.metrics import confusion_matrix\n",
        "from sklearn.metrics import accuracy_score\n",
        "from sklearn.linear_model import LogisticRegression\n",
        "from sklearn.tree import DecisionTreeClassifier\n",
        "from sklearn.neighbors import KNeighborsClassifier\n",
        "from sklearn.discriminant_analysis import LinearDiscriminantAnalysis\n",
        "from sklearn.naive_bayes import GaussianNB\n",
        "from sklearn.svm import SVC\n",
        "\n",
        "\n",
        "#load dataset\n",
        "url = \"https://archive.ics.uci.edu/ml/machine-learning-databases/iris/iris.data\"\n",
        "names = ['sepal-length','sepal-width','petal-length','petal-width','class']\n",
        "dataset = pandas.read_csv(url, names=names)"
      ],
      "execution_count": 33,
      "outputs": []
    },
    {
      "cell_type": "code",
      "metadata": {
        "id": "XOJ4WiP32hB4"
      },
      "source": [
        "print(dataset.shape)"
      ],
      "execution_count": null,
      "outputs": []
    },
    {
      "cell_type": "code",
      "metadata": {
        "id": "5lQycjRG2MPS"
      },
      "source": [
        "print(dataset.head(20))"
      ],
      "execution_count": null,
      "outputs": []
    },
    {
      "cell_type": "code",
      "metadata": {
        "id": "Yqqw3Ukm2vnP"
      },
      "source": [
        "print(dataset.describe())"
      ],
      "execution_count": null,
      "outputs": []
    },
    {
      "cell_type": "code",
      "metadata": {
        "id": "r8_01TRH2zef"
      },
      "source": [
        "print(dataset.groupby('class').size())"
      ],
      "execution_count": null,
      "outputs": []
    },
    {
      "cell_type": "code",
      "metadata": {
        "id": "l2disxuK23Mo"
      },
      "source": [
        "#box and wisker plots\n",
        "dataset.plot(kind='box', subplots=True, layout=(2,2), sharex=False, sharey=False)\n",
        "plt.show()"
      ],
      "execution_count": null,
      "outputs": []
    },
    {
      "cell_type": "code",
      "metadata": {
        "id": "EGlPFLEI26De"
      },
      "source": [
        "# histograms\n",
        "dataset.hist()\n",
        "plt.show()"
      ],
      "execution_count": null,
      "outputs": []
    },
    {
      "cell_type": "code",
      "metadata": {
        "id": "sAGGjhdw2-cV"
      },
      "source": [
        "#split-out validation dataset\n",
        "array = dataset.values\n",
        "X = array[:,0:4]\n",
        "Y = array[:,4]\n",
        "validation_size = 0.20\n",
        "seed = 7\n",
        "X_train, X_validation, Y_train, Y_validation = model_selection.train_test_split(X, Y, test_size=validation_size, random_state=seed)"
      ],
      "execution_count": 39,
      "outputs": []
    },
    {
      "cell_type": "code",
      "metadata": {
        "id": "9YHvIzzH3PGu"
      },
      "source": [
        "# Test options and evaluation metric\n",
        "seed = 7\n",
        "scoring = 'accuracy'\n",
        "\n",
        "#spot check algorithms\n",
        "\n",
        "models = []\n",
        "models.append(('LR', LogisticRegression()))\n",
        "models.append(('LDA', LinearDiscriminantAnalysis()))\n",
        "models.append(('KNN',KNeighborsClassifier() ))\n",
        "models.append(('CART', DecisionTreeClassifier() ))\n",
        "models.append(('NB',GaussianNB() ))\n",
        "models.append(('SVM', SVC() ))\n",
        "\n",
        "#evaluate each model in turn\n",
        "results = []\n",
        "names = []\n",
        "for name, model in models:\n",
        "    kfold = model_selection.KFold(n_splits=10, random_state=seed, shuffle=True)\n",
        "    cv_results = model_selection.cross_val_score(model, X_train, Y_train, cv=kfold, scoring=scoring)\n",
        "    #print(cv_results)\n",
        "    results.append(cv_results)\n",
        "    names.append(name)\n",
        "    msg = \"%s: %f (%f)\" % (name, cv_results.mean(), cv_results.std())\n",
        "    print(msg)\n",
        "\n",
        "#compare algorithms\n",
        "    fig = plt.figure()\n",
        "    fig.suptitle('Algorithm Comparison')\n",
        "    ax = fig.add_subplot(111)\n",
        "    plt.boxplot(results)\n",
        "    ax.set_xticklabels(names) \n",
        "    plt.show()\n",
        "\n",
        "#make predicitions on validation dataset\n",
        "\n",
        "    knn = KNeighborsClassifier()\n",
        "    knn.fit(X_train, Y_train)\n",
        "    predictions = knn.predict(X_validation)\n",
        "    print(accuracy_score(Y_validation, predictions))\n",
        "    print(confusion_matrix(Y_validation, predictions))\n",
        "    print(classification_report(Y_validation, predictions))"
      ],
      "execution_count": null,
      "outputs": []
    },
    {
      "cell_type": "markdown",
      "metadata": {
        "id": "aZgvj5064aCD"
      },
      "source": [
        "# Feladatok\n",
        "\n",
        "1.\tElemezzük és tisztítsuk meg a `dbalance.csv` fájl adatait. Az attribútumok leírása, az értékek várt eloszlása a `dbalance.txt` fájlban található.\n",
        "2.\tHány adatunk van és mi az osztályelosztás?\n",
        "3.\tÉpítsünk egy döntési fa és egy naiv Bayes-féle osztályozó modellt az adatokra.\n",
        "4.\tÍrassuk ki a konfúziós mátrixot, az átlag pontosságot, F1-mértéket a [beépített metrika függvények](https://scikit-learn.org/stable/modules/classes.html#module-sklearn.metrics) meghívásával.\n"
      ]
    },
    {
      "cell_type": "code",
      "source": [
        "from google.colab import drive\n",
        "drive.mount('/content/drive')"
      ],
      "metadata": {
        "colab": {
          "base_uri": "https://localhost:8080/"
        },
        "id": "A5Y2i4jaXmG1",
        "outputId": "be03548c-fa1c-495c-9779-cb6d76dd87b1"
      },
      "execution_count": 41,
      "outputs": [
        {
          "output_type": "stream",
          "name": "stdout",
          "text": [
            "Drive already mounted at /content/drive; to attempt to forcibly remount, call drive.mount(\"/content/drive\", force_remount=True).\n"
          ]
        }
      ]
    },
    {
      "cell_type": "code",
      "source": [
        "# 1.\n",
        "names = ['osztaly_neve','bal_oldali_suly','bal_tavolsag','jobb_oldali_suly','jobb_tavlosag']\n",
        "dataset = pd.read_csv('/content/drive/MyDrive/dbalance.csv', names=names)\n",
        "\n",
        "print(dataset.shape)\n",
        "\n",
        "dataset.drop(dataset[(dataset['osztaly_neve'] != 'L') & (dataset['osztaly_neve'] != 'R') & (dataset['osztaly_neve'] != 'B') ].index, inplace = True)\n",
        "\n",
        "dataset.drop(dataset[(dataset['bal_oldali_suly'] != '1') & (dataset['bal_oldali_suly'] != '2') & (dataset['bal_oldali_suly'] != '3') & (dataset['bal_oldali_suly'] != '4') & (dataset['bal_oldali_suly'] != '5') ].index, inplace = True)\n",
        "dataset.drop(dataset[(dataset['bal_tavolsag'] != '1') & (dataset['bal_tavolsag'] != '2') & (dataset['bal_tavolsag'] != '3') & (dataset['bal_tavolsag'] != '4') & (dataset['bal_tavolsag'] != '5') ].index, inplace = True)\n",
        "dataset.drop(dataset[(dataset['jobb_oldali_suly'] != '1') & (dataset['jobb_oldali_suly'] != '2') & (dataset['jobb_oldali_suly'] != '3') & (dataset['jobb_oldali_suly'] != '4') & (dataset['jobb_oldali_suly'] != '5') ].index, inplace = True)\n",
        "dataset.drop(dataset[(dataset['jobb_tavlosag'] != '1') & (dataset['jobb_tavlosag'] != '2') & (dataset['jobb_tavlosag'] != '3') & (dataset['jobb_tavlosag'] != '4') & (dataset['jobb_tavlosag'] != '5') ].index, inplace = True)\n",
        "dataset[\"bal_oldali_suly\"] = pd.to_numeric(dataset[\"bal_oldali_suly\"])\n",
        "dataset[\"bal_tavolsag\"] = pd.to_numeric(dataset[\"bal_tavolsag\"])\n",
        "dataset[\"jobb_oldali_suly\"] = pd.to_numeric(dataset[\"jobb_oldali_suly\"])\n",
        "dataset[\"jobb_tavlosag\"] = pd.to_numeric(dataset[\"jobb_tavlosag\"])\n",
        "\n",
        "dataset=dataset.reset_index(drop=True)\n",
        "\n",
        "print(dataset)"
      ],
      "metadata": {
        "colab": {
          "base_uri": "https://localhost:8080/"
        },
        "id": "NsYRzzLkWwoK",
        "outputId": "5742dd24-9f89-48cc-a29b-f2662a9d8e89"
      },
      "execution_count": 56,
      "outputs": [
        {
          "output_type": "stream",
          "name": "stdout",
          "text": [
            "(628, 5)\n",
            "    osztaly_neve  bal_oldali_suly  bal_tavolsag  jobb_oldali_suly  \\\n",
            "0              B                1             1                 1   \n",
            "1              R                1             1                 1   \n",
            "2              R                1             1                 1   \n",
            "3              R                1             1                 1   \n",
            "4              R                1             1                 1   \n",
            "..           ...              ...           ...               ...   \n",
            "605            L                5             5                 4   \n",
            "606            L                5             5                 5   \n",
            "607            L                5             5                 5   \n",
            "608            L                5             5                 5   \n",
            "609            L                5             5                 5   \n",
            "\n",
            "     jobb_tavlosag  \n",
            "0                1  \n",
            "1                2  \n",
            "2                3  \n",
            "3                4  \n",
            "4                5  \n",
            "..             ...  \n",
            "605              5  \n",
            "606              1  \n",
            "607              2  \n",
            "608              3  \n",
            "609              4  \n",
            "\n",
            "[610 rows x 5 columns]\n"
          ]
        }
      ]
    },
    {
      "cell_type": "code",
      "source": [
        "# 2.\n",
        "print(dataset.describe())\n",
        "print(dataset.groupby('osztaly_neve').size())\n",
        "#box and wisker plots\n",
        "dataset.plot(kind='box', subplots=True, layout=(2,2), sharex=False, sharey=False)\n",
        "plt.show()\n",
        "# histograms\n",
        "dataset.hist()\n",
        "plt.show()"
      ],
      "metadata": {
        "colab": {
          "base_uri": "https://localhost:8080/",
          "height": 773
        },
        "id": "b9lSwgYAYWs5",
        "outputId": "a3827b08-1d86-44d1-abc9-4a9010f49223"
      },
      "execution_count": 55,
      "outputs": [
        {
          "output_type": "stream",
          "name": "stdout",
          "text": [
            "       bal_oldali_suly  bal_tavolsag  jobb_oldali_suly  jobb_tavlosag\n",
            "count       610.000000    610.000000        610.000000     610.000000\n",
            "mean          2.986885      3.006557          2.983607       2.998361\n",
            "std           1.411828      1.415359          1.414118       1.417112\n",
            "min           1.000000      1.000000          1.000000       1.000000\n",
            "25%           2.000000      2.000000          2.000000       2.000000\n",
            "50%           3.000000      3.000000          3.000000       3.000000\n",
            "75%           4.000000      4.000000          4.000000       4.000000\n",
            "max           5.000000      5.000000          5.000000       5.000000\n",
            "osztaly_neve\n",
            "B     44\n",
            "L    283\n",
            "R    283\n",
            "dtype: int64\n"
          ]
        },
        {
          "output_type": "display_data",
          "data": {
            "text/plain": [
              "<Figure size 432x288 with 4 Axes>"
            ],
            "image/png": "[encoded data removed]"
          },
          "metadata": {
            "needs_background": "light"
          }
        },
        {
          "output_type": "display_data",
          "data": {
            "text/plain": [
              "<Figure size 432x288 with 4 Axes>"
            ],
            "image/png": "[encoded data removed]"
          },
          "metadata": {
            "needs_background": "light"
          }
        }
      ]
    },
    {
      "cell_type": "code",
      "source": [
        "# 3.\n",
        "from sklearn.datasets import load_iris\n",
        "from sklearn.model_selection import train_test_split\n",
        "\n",
        "target = dataset.osztaly_neve\n",
        "inputs = dataset.drop('osztaly_neve', axis='columns')\n",
        "\n",
        "X_train, X_test, y_train, y_test = train_test_split(inputs, target, test_size=0.3)\n",
        "\n",
        "model = GaussianNB()\n",
        "model.fit(X_train, y_train)\n",
        "model.score(X_test, y_test)"
      ],
      "metadata": {
        "colab": {
          "base_uri": "https://localhost:8080/"
        },
        "id": "xGE_pD_PY4nZ",
        "outputId": "038bd745-d95c-4cb7-bce1-581813f79e2d"
      },
      "execution_count": 54,
      "outputs": [
        {
          "output_type": "execute_result",
          "data": {
            "text/plain": [
              "0.9398907103825137"
            ]
          },
          "metadata": {},
          "execution_count": 54
        }
      ]
    },
    {
      "cell_type": "code",
      "source": [
        "from sklearn.metrics import ConfusionMatrixDisplay\n",
        "from sklearn import svm, datasets\n",
        "\n",
        "classifier = svm.SVC(kernel=\"linear\", C=0.01).fit(X_train, y_train)\n",
        "\n",
        "np.set_printoptions(precision=2)\n",
        "\n",
        "# Plot non-normalized confusion matrix\n",
        "titles_options = [\n",
        "    (\"Confusion matrix, without normalization\", None),\n",
        "    (\"Normalized confusion matrix\", \"true\"),\n",
        "]\n",
        "for title, normalize in titles_options:\n",
        "    disp = ConfusionMatrixDisplay.from_estimator(\n",
        "        classifier,\n",
        "        X_test,\n",
        "        y_test,\n",
        "        display_labels=dataset['osztaly_neve'],\n",
        "        cmap=plt.cm.Blues,\n",
        "        normalize=normalize,\n",
        "    )\n",
        "    disp.ax_.set_title(title)\n",
        "\n",
        "    print(title)\n",
        "    print(disp.confusion_matrix)\n",
        "\n",
        "plt.show()\n",
        "\n",
        "from sklearn.metrics import f1_score\n",
        "\n",
        "# instantiate\n",
        "gnb = GaussianNB()\n",
        "\n",
        "# fit\n",
        "gnb.fit(X_train, y_train)\n",
        "\n",
        "# predict\n",
        "y_pred_2 = gnb.predict(X_test)\n",
        "\n",
        "# f1 score\n",
        "score_2 = f1_score(y_pred_2, y_test, average='macro')\n",
        "\n",
        "# print\n",
        "print(\"GaussianNB F1 score: {: .2f}\".format(score_2))"
      ],
      "metadata": {
        "colab": {
          "base_uri": "https://localhost:8080/",
          "height": 729
        },
        "id": "HexJNOSvZdat",
        "outputId": "70ceaf24-98de-4c51-f22d-0c2c9db7a6d7"
      },
      "execution_count": 53,
      "outputs": [
        {
          "output_type": "stream",
          "name": "stdout",
          "text": [
            "Confusion matrix, without normalization\n",
            "[[ 0  5  5]\n",
            " [ 0 91  6]\n",
            " [ 0  3 73]]\n",
            "Normalized confusion matrix\n",
            "[[0.   0.5  0.5 ]\n",
            " [0.   0.94 0.06]\n",
            " [0.   0.04 0.96]]\n"
          ]
        },
        {
          "output_type": "display_data",
          "data": {
            "text/plain": [
              "<Figure size 432x288 with 2 Axes>"
            ],
            "image/png": "[encoded data removed]"
          },
          "metadata": {
            "needs_background": "light"
          }
        },
        {
          "output_type": "display_data",
          "data": {
            "text/plain": [
              "<Figure size 432x288 with 2 Axes>"
            ],
            "image/png": "[encoded data removed]"
          },
          "metadata": {
            "needs_background": "light"
          }
        },
        {
          "output_type": "stream",
          "name": "stdout",
          "text": [
            "GaussianNB F1 score:  0.69\n"
          ]
        }
      ]
    }
  ]
}